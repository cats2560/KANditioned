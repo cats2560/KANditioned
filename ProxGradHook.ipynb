version https://git-lfs.github.com/spec/v1
oid sha256:62964b22fc34b9abb2726317d522c8d01db9dfbeb7b55cb8f3078ce99792f08c
size 54779
