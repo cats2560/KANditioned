version https://git-lfs.github.com/spec/v1
oid sha256:a737d8e06c2e93031270a5a3475d75e414a6224181da851ddb0704f459374172
size 29453
