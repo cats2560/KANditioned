version https://git-lfs.github.com/spec/v1
oid sha256:2be64ae9435f55450bd11d026e0ce9dc6d3dd50d86a3650bfce89c1174017ff6
size 9057
