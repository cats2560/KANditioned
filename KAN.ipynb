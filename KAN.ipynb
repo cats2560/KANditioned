version https://git-lfs.github.com/spec/v1
oid sha256:d913abc3fe4ec2ae4162ce4067a7222d6f38e4ea2a75dc7cfa39d207179d0c84
size 20494258
