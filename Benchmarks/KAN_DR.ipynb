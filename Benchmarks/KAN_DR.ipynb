version https://git-lfs.github.com/spec/v1
oid sha256:fe756dad6efecfb1ec4f32d44b0852c64ae7ec427c6466dd6440e7f9570d15f5
size 20862982
