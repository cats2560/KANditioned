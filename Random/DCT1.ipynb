version https://git-lfs.github.com/spec/v1
oid sha256:ded5f18deb860b31571f7c0c38b71761d0d222098619e23f0c769967fe97e435
size 32298
