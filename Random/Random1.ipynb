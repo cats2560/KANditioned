version https://git-lfs.github.com/spec/v1
oid sha256:ed5aa8c300aa3d67948b9d40bd3db3c4ea9b0a287796b7316517464310e6a4b8
size 853224
