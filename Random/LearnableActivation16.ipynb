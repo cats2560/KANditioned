version https://git-lfs.github.com/spec/v1
oid sha256:24594c6646f0b36cc5e9ed1aa29973ebf0d858ec05e94d3a8d583e47b8d205f4
size 6089175
