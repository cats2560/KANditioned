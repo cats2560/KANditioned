version https://git-lfs.github.com/spec/v1
oid sha256:690d96b0378f0e278eb3ce2d0c9de77a25d8bf87a060c8f0702c3d84a0335e6c
size 1568762
