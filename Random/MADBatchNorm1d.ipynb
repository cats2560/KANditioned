{
 "cells": [
  {
   "cell_type": "code",
   "execution_count": null,
   "id": "49c86a78",
   "metadata": {},
   "outputs": [],
   "source": [
    "class MADBatchNorm1d(nn.Module):\n",
    "    def __init__(self, num_features, eps=1e-5, momentum=0.1, affine=False, track_running_stats=True):\n",
    "        super(MADBatchNorm1d, self).__init__()\n",
    "        self.num_features = num_features\n",
    "        self.eps = eps\n",
    "        self.momentum = momentum\n",
    "        self.track_running_stats = track_running_stats\n",
    "\n",
    "        if self.track_running_stats:\n",
    "            self.register_buffer('running_mean', torch.zeros(num_features))\n",
    "            self.register_buffer('running_mad', torch.ones(num_features))\n",
    "            self.running_mean: torch.Tensor\n",
    "            self.running_mad: torch.Tensor\n",
    "            self.register_buffer('num_batches_tracked', torch.tensor(0, dtype=torch.long))\n",
    "\n",
    "    def forward(self, x):\n",
    "        if x.dim() != 2:\n",
    "            raise ValueError(\"Input must be 2D (batch, features)\")\n",
    "\n",
    "        if self.training or not self.track_running_stats:\n",
    "            mean = x.mean(dim=0)\n",
    "            mad = (x - mean).abs().mean(dim=0)\n",
    "\n",
    "            if self.track_running_stats:\n",
    "                with torch.no_grad():\n",
    "                    self.running_mean.mul_(1 - self.momentum).add_(self.momentum * mean)\n",
    "                    self.running_mad.mul_(1 - self.momentum).add_(self.momentum * mad)\n",
    "                    self.num_batches_tracked += 1\n",
    "            normed = (x - mean) / (mad + self.eps)\n",
    "\n",
    "        else:\n",
    "            normed = (x - self.running_mean) / (self.running_mad + self.eps)\n",
    "\n",
    "        return normed"
   ]
  }
 ],
 "metadata": {
  "language_info": {
   "name": "python"
  }
 },
 "nbformat": 4,
 "nbformat_minor": 5
}
