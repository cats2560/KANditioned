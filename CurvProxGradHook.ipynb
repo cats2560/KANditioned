version https://git-lfs.github.com/spec/v1
oid sha256:ad4435e56ec290411d04adcf5db52fea83185979d2307d85460da8b41826e4b9
size 4066
